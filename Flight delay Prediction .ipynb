{
 "cells": [
  {
   "cell_type": "code",
   "execution_count": 5,
   "id": "8bc08d34",
   "metadata": {},
   "outputs": [
    {
     "name": "stdout",
     "output_type": "stream",
     "text": [
      "   Passenger ID First Name Last Name  Gender  Age Nationality  \\\n",
      "0         10856     Edithe    Leggis  Female   62       Japan   \n",
      "1         43872     Elwood      Catt    Male   62   Nicaragua   \n",
      "2         42633      Darby   Felgate    Male   67      Russia   \n",
      "3         78493   Dominica      Pyle  Female   71       China   \n",
      "4         82072        Bay   Pencost    Male   21       China   \n",
      "\n",
      "                Airport Name Airport Country Code   Country Name  \\\n",
      "0           Coldfoot Airport                   US  United States   \n",
      "1          Kugluktuk Airport                   CA         Canada   \n",
      "2     Grenoble-Isère Airport                   FR         France   \n",
      "3  Ottawa / Gatineau Airport                   CA         Canada   \n",
      "4            Gillespie Field                   US  United States   \n",
      "\n",
      "  Airport Continent     Continents Departure Date Arrival Airport  \\\n",
      "0               NAM  North America      6/28/2022             CXF   \n",
      "1               NAM  North America     12/26/2022             YCO   \n",
      "2                EU         Europe      1/18/2022             GNB   \n",
      "3               NAM  North America      9/16/2022             YND   \n",
      "4               NAM  North America      2/25/2022             SEE   \n",
      "\n",
      "      Pilot Name Flight Status  \n",
      "0  Edithe Leggis       On Time  \n",
      "1    Elwood Catt       On Time  \n",
      "2  Darby Felgate       On Time  \n",
      "3  Dominica Pyle       Delayed  \n",
      "4    Bay Pencost       On Time  \n",
      "Index(['Passenger ID', 'First Name', 'Last Name', 'Gender', 'Age',\n",
      "       'Nationality', 'Airport Name', 'Airport Country Code', 'Country Name',\n",
      "       'Airport Continent', 'Continents', 'Departure Date', 'Arrival Airport',\n",
      "       'Pilot Name', 'Flight Status'],\n",
      "      dtype='object')\n"
     ]
    }
   ],
   "source": [
    "import pandas as pd\n",
    "\n",
    "# Load the dataset\n",
    "data = pd.read_csv('Airline Dataset.csv')\n",
    "\n",
    "# Display the first few rows and check the columns\n",
    "print(data.head())\n",
    "print(data.columns)"
   ]
  },
  {
   "cell_type": "code",
   "execution_count": 6,
   "id": "24e46cce",
   "metadata": {},
   "outputs": [],
   "source": [
    "from sklearn.preprocessing import LabelEncoder\n",
    "from sklearn.model_selection import train_test_split\n",
    "from sklearn.preprocessing import StandardScaler\n"
   ]
  },
  {
   "cell_type": "code",
   "execution_count": 7,
   "id": "e36786c6",
   "metadata": {},
   "outputs": [],
   "source": [
    "# Convert 'Departure Date' to datetime\n",
    "data['Departure Date'] = pd.to_datetime(data['Departure Date'])"
   ]
  },
  {
   "cell_type": "code",
   "execution_count": 8,
   "id": "757b7fb3",
   "metadata": {},
   "outputs": [],
   "source": [
    "# Extract features from the date\n",
    "data['Departure Month'] = data['Departure Date'].dt.month\n",
    "data['Departure Day'] = data['Departure Date'].dt.day\n",
    "data['Departure DayOfWeek'] = data['Departure Date'].dt.dayofweek"
   ]
  },
  {
   "cell_type": "code",
   "execution_count": 9,
   "id": "ee6d71da",
   "metadata": {},
   "outputs": [],
   "source": [
    "# Encode categorical variables\n",
    "label_encoders = {}\n",
    "categorical_columns = ['Gender', 'Nationality', 'Airport Name', 'Airport Country Code',\n",
    "                       'Country Name', 'Airport Continent', 'Continents', 'Arrival Airport', 'Pilot Name']\n",
    "\n",
    "for column in categorical_columns:\n",
    "    le = LabelEncoder()\n",
    "    data[column] = le.fit_transform(data[column])\n",
    "    label_encoders[column] = le"
   ]
  },
  {
   "cell_type": "code",
   "execution_count": 10,
   "id": "56073147",
   "metadata": {},
   "outputs": [],
   "source": [
    "# Encode the target variable 'Flight Status'\n",
    "le_flight_status = LabelEncoder()\n",
    "data['Flight Status'] = le_flight_status.fit_transform(data['Flight Status'])"
   ]
  },
  {
   "cell_type": "code",
   "execution_count": 11,
   "id": "b681e3ce",
   "metadata": {},
   "outputs": [],
   "source": [
    "# Select features for the model\n",
    "X = data[['Gender', 'Age', 'Nationality', 'Departure Month', 'Departure Day',\n",
    "          'Departure DayOfWeek', 'Airport Name', 'Airport Country Code',\n",
    "          'Country Name', 'Airport Continent', 'Arrival Airport']]\n",
    "\n",
    "y = data['Flight Status']"
   ]
  },
  {
   "cell_type": "code",
   "execution_count": 12,
   "id": "401023b0",
   "metadata": {},
   "outputs": [],
   "source": [
    "# Split the data into training and testing sets\n",
    "X_train, X_test, y_train, y_test = train_test_split(X, y, test_size=0.2, random_state=42)"
   ]
  },
  {
   "cell_type": "code",
   "execution_count": 13,
   "id": "ddc06fcc",
   "metadata": {},
   "outputs": [
    {
     "name": "stdout",
     "output_type": "stream",
     "text": [
      "(78895, 11) (19724, 11) (78895,) (19724,)\n"
     ]
    }
   ],
   "source": [
    "# Scale the data\n",
    "scaler = StandardScaler()\n",
    "X_train = scaler.fit_transform(X_train)\n",
    "X_test = scaler.transform(X_test)\n",
    "\n",
    "print(X_train.shape, X_test.shape, y_train.shape, y_test.shape)"
   ]
  },
  {
   "cell_type": "code",
   "execution_count": 14,
   "id": "96906e9f",
   "metadata": {},
   "outputs": [
    {
     "name": "stdout",
     "output_type": "stream",
     "text": [
      "Epoch 1/10\n",
      "2466/2466 [==============================] - 2s 603us/step - loss: 0.0463 - accuracy: 0.3317\n",
      "Epoch 2/10\n",
      "2466/2466 [==============================] - 1s 597us/step - loss: 0.0147 - accuracy: 0.3318\n",
      "Epoch 3/10\n",
      "2466/2466 [==============================] - 1s 598us/step - loss: 0.0203 - accuracy: 0.3318\n",
      "Epoch 4/10\n",
      "2466/2466 [==============================] - 1s 597us/step - loss: -0.0488 - accuracy: 0.3317\n",
      "Epoch 5/10\n",
      "2466/2466 [==============================] - 1s 595us/step - loss: -0.1222 - accuracy: 0.3318\n",
      "Epoch 6/10\n",
      "2466/2466 [==============================] - 1s 595us/step - loss: -0.1832 - accuracy: 0.3318\n",
      "Epoch 7/10\n",
      "2466/2466 [==============================] - 1s 597us/step - loss: -0.1711 - accuracy: 0.3318\n",
      "Epoch 8/10\n",
      "2466/2466 [==============================] - 1s 595us/step - loss: -0.2157 - accuracy: 0.3318\n",
      "Epoch 9/10\n",
      "2466/2466 [==============================] - 1s 595us/step - loss: -0.1865 - accuracy: 0.3317\n",
      "Epoch 10/10\n",
      "2466/2466 [==============================] - 1s 596us/step - loss: -0.5463 - accuracy: 0.3318\n",
      "Test Loss: -1.7922520637512207\n",
      "Test Accuracy: 0.3374062180519104\n"
     ]
    }
   ],
   "source": [
    "from tensorflow.keras.models import Sequential\n",
    "from tensorflow.keras.layers import Dense, Dropout\n",
    "\n",
    "# Define the neural network model\n",
    "model = Sequential()\n",
    "model.add(Dense(64, input_dim=X_train.shape[1], activation='relu'))\n",
    "model.add(Dropout(0.5))\n",
    "model.add(Dense(32, activation='relu'))\n",
    "model.add(Dropout(0.5))\n",
    "model.add(Dense(1, activation='sigmoid'))  # Single output neuron with sigmoid for binary classification\n",
    "\n",
    "# Compile the model\n",
    "model.compile(loss='binary_crossentropy', optimizer='adam', metrics=['accuracy'])\n",
    "\n",
    "# Train the model\n",
    "model.fit(X_train, y_train, epochs=10, batch_size=32, verbose=1)\n",
    "\n",
    "# Evaluate the model on the test set\n",
    "score, accuracy = model.evaluate(X_test, y_test, verbose=0)\n",
    "\n",
    "print(f\"Test Loss: {score}\")\n",
    "print(f\"Test Accuracy: {accuracy}\")"
   ]
  },
  {
   "cell_type": "code",
   "execution_count": 15,
   "id": "4bf7a0af",
   "metadata": {},
   "outputs": [
    {
     "name": "stdout",
     "output_type": "stream",
     "text": [
      "Epoch 1/10\n",
      "2466/2466 [==============================] - 2s 601us/step - loss: 0.0673 - accuracy: 0.3320\n",
      "Epoch 2/10\n",
      "2466/2466 [==============================] - 1s 599us/step - loss: 0.0113 - accuracy: 0.3318\n",
      "Epoch 3/10\n",
      "2466/2466 [==============================] - 2s 615us/step - loss: 0.0017 - accuracy: 0.3318\n",
      "Epoch 4/10\n",
      "2466/2466 [==============================] - 1s 602us/step - loss: -0.0203 - accuracy: 0.3318\n",
      "Epoch 5/10\n",
      "2466/2466 [==============================] - 2s 611us/step - loss: 5.4692e-04 - accuracy: 0.3318\n",
      "Epoch 6/10\n",
      "2466/2466 [==============================] - 2s 616us/step - loss: -0.1812 - accuracy: 0.3318\n",
      "Epoch 7/10\n",
      "2466/2466 [==============================] - 1s 608us/step - loss: -0.0400 - accuracy: 0.3318\n",
      "Epoch 8/10\n",
      "2466/2466 [==============================] - 1s 597us/step - loss: -0.3668 - accuracy: 0.3318\n",
      "Epoch 9/10\n",
      "2466/2466 [==============================] - 1s 602us/step - loss: -0.2710 - accuracy: 0.3318\n",
      "Epoch 10/10\n",
      "2466/2466 [==============================] - 2s 613us/step - loss: -0.1961 - accuracy: 0.3318\n",
      "Test Loss: -1.4367417097091675\n",
      "Test Accuracy: 0.3374062180519104\n"
     ]
    }
   ],
   "source": [
    "from tensorflow.keras.models import Sequential\n",
    "from tensorflow.keras.layers import Dense, Dropout\n",
    "\n",
    "# Define the neural network model\n",
    "model = Sequential()\n",
    "model.add(Dense(64, input_dim=X_train.shape[1], activation='relu'))\n",
    "model.add(Dropout(0.5))\n",
    "model.add(Dense(32, activation='relu'))\n",
    "model.add(Dropout(0.5))\n",
    "model.add(Dense(1, activation='sigmoid'))  # Single output neuron with sigmoid for binary classification\n",
    "\n",
    "# Compile the model\n",
    "model.compile(loss='binary_crossentropy', optimizer='adam', metrics=['accuracy'])\n",
    "\n",
    "# Train the model\n",
    "model.fit(X_train, y_train, epochs=10, batch_size=32, verbose=1)\n",
    "\n",
    "# Evaluate the model on the test set\n",
    "score, accuracy = model.evaluate(X_test, y_test, verbose=0)\n",
    "\n",
    "print(f\"Test Loss: {score}\")\n",
    "print(f\"Test Accuracy: {accuracy}\")"
   ]
  },
  {
   "cell_type": "code",
   "execution_count": 19,
   "id": "54f2bb0a",
   "metadata": {},
   "outputs": [
    {
     "name": "stdout",
     "output_type": "stream",
     "text": [
      "1/1 [==============================] - 0s 13ms/step\n",
      "The flight is delayed.\n"
     ]
    }
   ],
   "source": [
    "import numpy as np\n",
    "import pandas as pd\n",
    "\n",
    "# Example input (replace with actual values)\n",
    "user_input = np.array([[1, 25, 3, 6, 15, 2, 10, 5, 7, 2, 12]])  \n",
    "\n",
    "# Convert the NumPy array to a DataFrame with the same feature names\n",
    "user_input_df = pd.DataFrame(user_input, columns=X.columns)\n",
    "\n",
    "# Scale the input data\n",
    "user_input_scaled = scaler.transform(user_input_df)\n",
    "\n",
    "# Make a prediction\n",
    "prediction = model.predict(user_input_scaled)\n",
    "\n",
    "if prediction[0] >= 0.5:\n",
    "    print(\"The flight is delayed.\")\n",
    "else:\n",
    "    print(\"The flight is on time.\")"
   ]
  },
  {
   "cell_type": "code",
   "execution_count": null,
   "id": "fd03696e",
   "metadata": {},
   "outputs": [],
   "source": []
  }
 ],
 "metadata": {
  "kernelspec": {
   "display_name": "Python 3 (ipykernel)",
   "language": "python",
   "name": "python3"
  },
  "language_info": {
   "codemirror_mode": {
    "name": "ipython",
    "version": 3
   },
   "file_extension": ".py",
   "mimetype": "text/x-python",
   "name": "python",
   "nbconvert_exporter": "python",
   "pygments_lexer": "ipython3",
   "version": "3.11.4"
  }
 },
 "nbformat": 4,
 "nbformat_minor": 5
}
